{
 "cells": [
  {
   "cell_type": "markdown",
   "id": "generous-hydrogen",
   "metadata": {},
   "source": [
    "# BDTs Demo Plots\n",
    "\n",
    "Inspired from iris dataset but using $x_1$ and $x_2$ (?)\n",
    "\n",
    "## Get iris data and rename features + target"
   ]
  },
  {
   "cell_type": "code",
   "execution_count": 3,
   "id": "super-geometry",
   "metadata": {},
   "outputs": [],
   "source": [
    "import pandas as pd\n",
    "import numpy as np\n",
    "from sklearn.datasets import load_iris\n",
    "from myst_nb import glue"
   ]
  },
  {
   "cell_type": "code",
   "execution_count": 4,
   "id": "organizational-witch",
   "metadata": {},
   "outputs": [],
   "source": [
    "iris = load_iris()"
   ]
  },
  {
   "cell_type": "code",
   "execution_count": 5,
   "id": "blind-looking",
   "metadata": {},
   "outputs": [
    {
     "data": {
      "text/plain": [
       "['sepal length (cm)',\n",
       " 'sepal width (cm)',\n",
       " 'petal length (cm)',\n",
       " 'petal width (cm)']"
      ]
     },
     "execution_count": 5,
     "metadata": {},
     "output_type": "execute_result"
    }
   ],
   "source": [
    "iris.feature_names"
   ]
  },
  {
   "cell_type": "code",
   "execution_count": 6,
   "id": "affecting-sunglasses",
   "metadata": {},
   "outputs": [],
   "source": [
    "df_iris = pd.DataFrame(data= np.c_[iris['data'], iris['target']],\n",
    "                 columns= iris['feature_names'] + ['target'])"
   ]
  },
  {
   "cell_type": "code",
   "execution_count": 7,
   "id": "adopted-baghdad",
   "metadata": {},
   "outputs": [
    {
     "data": {
      "text/html": [
       "<div>\n",
       "<style scoped>\n",
       "    .dataframe tbody tr th:only-of-type {\n",
       "        vertical-align: middle;\n",
       "    }\n",
       "\n",
       "    .dataframe tbody tr th {\n",
       "        vertical-align: top;\n",
       "    }\n",
       "\n",
       "    .dataframe thead th {\n",
       "        text-align: right;\n",
       "    }\n",
       "</style>\n",
       "<table border=\"1\" class=\"dataframe\">\n",
       "  <thead>\n",
       "    <tr style=\"text-align: right;\">\n",
       "      <th></th>\n",
       "      <th>sepal length (cm)</th>\n",
       "      <th>sepal width (cm)</th>\n",
       "      <th>petal length (cm)</th>\n",
       "      <th>petal width (cm)</th>\n",
       "      <th>target</th>\n",
       "    </tr>\n",
       "  </thead>\n",
       "  <tbody>\n",
       "    <tr>\n",
       "      <th>0</th>\n",
       "      <td>5.1</td>\n",
       "      <td>3.5</td>\n",
       "      <td>1.4</td>\n",
       "      <td>0.2</td>\n",
       "      <td>0.0</td>\n",
       "    </tr>\n",
       "    <tr>\n",
       "      <th>1</th>\n",
       "      <td>4.9</td>\n",
       "      <td>3.0</td>\n",
       "      <td>1.4</td>\n",
       "      <td>0.2</td>\n",
       "      <td>0.0</td>\n",
       "    </tr>\n",
       "    <tr>\n",
       "      <th>2</th>\n",
       "      <td>4.7</td>\n",
       "      <td>3.2</td>\n",
       "      <td>1.3</td>\n",
       "      <td>0.2</td>\n",
       "      <td>0.0</td>\n",
       "    </tr>\n",
       "    <tr>\n",
       "      <th>3</th>\n",
       "      <td>4.6</td>\n",
       "      <td>3.1</td>\n",
       "      <td>1.5</td>\n",
       "      <td>0.2</td>\n",
       "      <td>0.0</td>\n",
       "    </tr>\n",
       "    <tr>\n",
       "      <th>4</th>\n",
       "      <td>5.0</td>\n",
       "      <td>3.6</td>\n",
       "      <td>1.4</td>\n",
       "      <td>0.2</td>\n",
       "      <td>0.0</td>\n",
       "    </tr>\n",
       "  </tbody>\n",
       "</table>\n",
       "</div>"
      ],
      "text/plain": [
       "   sepal length (cm)  sepal width (cm)  petal length (cm)  petal width (cm)  \\\n",
       "0                5.1               3.5                1.4               0.2   \n",
       "1                4.9               3.0                1.4               0.2   \n",
       "2                4.7               3.2                1.3               0.2   \n",
       "3                4.6               3.1                1.5               0.2   \n",
       "4                5.0               3.6                1.4               0.2   \n",
       "\n",
       "   target  \n",
       "0     0.0  \n",
       "1     0.0  \n",
       "2     0.0  \n",
       "3     0.0  \n",
       "4     0.0  "
      ]
     },
     "execution_count": 7,
     "metadata": {},
     "output_type": "execute_result"
    }
   ],
   "source": [
    "df_iris.head(5)"
   ]
  },
  {
   "cell_type": "code",
   "execution_count": 8,
   "id": "raising-chart",
   "metadata": {},
   "outputs": [],
   "source": [
    "import seaborn as sns"
   ]
  },
  {
   "cell_type": "code",
   "execution_count": 9,
   "id": "executed-uncertainty",
   "metadata": {},
   "outputs": [
    {
     "data": {
      "text/plain": [
       "<seaborn.axisgrid.JointGrid at 0x16a2a3070>"
      ]
     },
     "execution_count": 9,
     "metadata": {},
     "output_type": "execute_result"
    },
    {
     "data": {
      "image/png": "[encoded data removed]",
      "text/plain": [
       "<Figure size 432x432 with 3 Axes>"
      ]
     },
     "metadata": {
      "needs_background": "light"
     },
     "output_type": "display_data"
    }
   ],
   "source": [
    "sns.jointplot(x = \"petal length (cm)\", y = \"petal width (cm)\", kind = \"scatter\", hue = 'target', data = df_iris)"
   ]
  },
  {
   "cell_type": "code",
   "execution_count": 10,
   "id": "voluntary-survival",
   "metadata": {},
   "outputs": [],
   "source": [
    "df = pd.DataFrame(data=iris['data'], columns=iris.feature_names)\n",
    "\n",
    "# Renaming columns\n",
    "df['x1'] = df['petal length (cm)']\n",
    "df['x2'] = df['petal width (cm)']\n",
    "\n",
    "df['y'] = iris.target\n",
    "df['class'] = df['y'].replace(to_replace= [0, 1, 2], value = ['A', 'B', 'C'])"
   ]
  },
  {
   "cell_type": "code",
   "execution_count": 11,
   "id": "national-commission",
   "metadata": {},
   "outputs": [
    {
     "data": {
      "text/html": [
       "<div>\n",
       "<style scoped>\n",
       "    .dataframe tbody tr th:only-of-type {\n",
       "        vertical-align: middle;\n",
       "    }\n",
       "\n",
       "    .dataframe tbody tr th {\n",
       "        vertical-align: top;\n",
       "    }\n",
       "\n",
       "    .dataframe thead th {\n",
       "        text-align: right;\n",
       "    }\n",
       "</style>\n",
       "<table border=\"1\" class=\"dataframe\">\n",
       "  <thead>\n",
       "    <tr style=\"text-align: right;\">\n",
       "      <th></th>\n",
       "      <th>sepal length (cm)</th>\n",
       "      <th>sepal width (cm)</th>\n",
       "      <th>petal length (cm)</th>\n",
       "      <th>petal width (cm)</th>\n",
       "      <th>x1</th>\n",
       "      <th>x2</th>\n",
       "      <th>y</th>\n",
       "      <th>class</th>\n",
       "    </tr>\n",
       "  </thead>\n",
       "  <tbody>\n",
       "    <tr>\n",
       "      <th>0</th>\n",
       "      <td>5.1</td>\n",
       "      <td>3.5</td>\n",
       "      <td>1.4</td>\n",
       "      <td>0.2</td>\n",
       "      <td>1.4</td>\n",
       "      <td>0.2</td>\n",
       "      <td>0</td>\n",
       "      <td>A</td>\n",
       "    </tr>\n",
       "    <tr>\n",
       "      <th>1</th>\n",
       "      <td>4.9</td>\n",
       "      <td>3.0</td>\n",
       "      <td>1.4</td>\n",
       "      <td>0.2</td>\n",
       "      <td>1.4</td>\n",
       "      <td>0.2</td>\n",
       "      <td>0</td>\n",
       "      <td>A</td>\n",
       "    </tr>\n",
       "    <tr>\n",
       "      <th>2</th>\n",
       "      <td>4.7</td>\n",
       "      <td>3.2</td>\n",
       "      <td>1.3</td>\n",
       "      <td>0.2</td>\n",
       "      <td>1.3</td>\n",
       "      <td>0.2</td>\n",
       "      <td>0</td>\n",
       "      <td>A</td>\n",
       "    </tr>\n",
       "    <tr>\n",
       "      <th>3</th>\n",
       "      <td>4.6</td>\n",
       "      <td>3.1</td>\n",
       "      <td>1.5</td>\n",
       "      <td>0.2</td>\n",
       "      <td>1.5</td>\n",
       "      <td>0.2</td>\n",
       "      <td>0</td>\n",
       "      <td>A</td>\n",
       "    </tr>\n",
       "    <tr>\n",
       "      <th>4</th>\n",
       "      <td>5.0</td>\n",
       "      <td>3.6</td>\n",
       "      <td>1.4</td>\n",
       "      <td>0.2</td>\n",
       "      <td>1.4</td>\n",
       "      <td>0.2</td>\n",
       "      <td>0</td>\n",
       "      <td>A</td>\n",
       "    </tr>\n",
       "  </tbody>\n",
       "</table>\n",
       "</div>"
      ],
      "text/plain": [
       "   sepal length (cm)  sepal width (cm)  petal length (cm)  petal width (cm)  \\\n",
       "0                5.1               3.5                1.4               0.2   \n",
       "1                4.9               3.0                1.4               0.2   \n",
       "2                4.7               3.2                1.3               0.2   \n",
       "3                4.6               3.1                1.5               0.2   \n",
       "4                5.0               3.6                1.4               0.2   \n",
       "\n",
       "    x1   x2  y class  \n",
       "0  1.4  0.2  0     A  \n",
       "1  1.4  0.2  0     A  \n",
       "2  1.3  0.2  0     A  \n",
       "3  1.5  0.2  0     A  \n",
       "4  1.4  0.2  0     A  "
      ]
     },
     "execution_count": 11,
     "metadata": {},
     "output_type": "execute_result"
    }
   ],
   "source": [
    "df.head(5)"
   ]
  },
  {
   "cell_type": "code",
   "execution_count": null,
   "id": "sharp-sacrifice",
   "metadata": {},
   "outputs": [],
   "source": []
  },
  {
   "cell_type": "markdown",
   "id": "complex-question",
   "metadata": {},
   "source": [
    "## Training and Visualizing a Decision Tree"
   ]
  },
  {
   "cell_type": "code",
   "execution_count": 12,
   "id": "classical-marshall",
   "metadata": {},
   "outputs": [],
   "source": [
    "#pip install graphviz"
   ]
  },
  {
   "cell_type": "code",
   "execution_count": 13,
   "id": "celtic-armstrong",
   "metadata": {},
   "outputs": [],
   "source": [
    "# to make this notebook's output stable across runs\n",
    "np.random.seed(42)\n",
    "\n",
    "# To plot pretty figures\n",
    "%matplotlib inline\n",
    "import matplotlib as mpl\n",
    "import matplotlib.pyplot as plt\n",
    "\n",
    "# Where to save the figures\n",
    "import os\n",
    "PROJECT_ROOT_DIR = \"..\" \n",
    "IMAGES_PATH = os.path.join(PROJECT_ROOT_DIR, \"images\")"
   ]
  },
  {
   "cell_type": "code",
   "execution_count": 14,
   "id": "delayed-jersey",
   "metadata": {},
   "outputs": [
    {
     "data": {
      "text/plain": [
       "DecisionTreeClassifier(max_depth=2)"
      ]
     },
     "execution_count": 14,
     "metadata": {},
     "output_type": "execute_result"
    }
   ],
   "source": [
    "from sklearn.tree import DecisionTreeClassifier\n",
    "\n",
    "X = df[['x1', 'x2']]\n",
    "y = df[['y']]\n",
    "\n",
    "tree_clf = DecisionTreeClassifier(max_depth = 2)\n",
    "tree_clf.fit(X, y)"
   ]
  },
  {
   "cell_type": "code",
   "execution_count": 15,
   "id": "solved-spectacular",
   "metadata": {},
   "outputs": [
    {
     "data": {
      "image/svg+xml": [
       "<?xml version=\"1.0\" encoding=\"UTF-8\" standalone=\"no\"?>\n",
       "<!DOCTYPE svg PUBLIC \"-//W3C//DTD SVG 1.1//EN\"\n",
       " \"http://www.w3.org/Graphics/SVG/1.1/DTD/svg11.dtd\">\n",
       "<!-- Generated by graphviz version 2.50.0 (20211204.2007)\n",
       " -->\n",
       "<!-- Title: Tree Pages: 1 -->\n",
       "<svg width=\"331pt\" height=\"314pt\"\n",
       " viewBox=\"0.00 0.00 331.00 314.00\" xmlns=\"http://www.w3.org/2000/svg\" xmlns:xlink=\"http://www.w3.org/1999/xlink\">\n",
       "<g id=\"graph0\" class=\"graph\" transform=\"scale(1 1) rotate(0) translate(4 310)\">\n",
       "<title>Tree</title>\n",
       "<polygon fill=\"white\" stroke=\"transparent\" points=\"-4,4 -4,-310 327,-310 327,4 -4,4\"/>\n",
       "<!-- 0 -->\n",
       "<g id=\"node1\" class=\"node\">\n",
       "<title>0</title>\n",
       "<path fill=\"none\" stroke=\"black\" d=\"M181.5,-306C181.5,-306 73.5,-306 73.5,-306 67.5,-306 61.5,-300 61.5,-294 61.5,-294 61.5,-235 61.5,-235 61.5,-229 67.5,-223 73.5,-223 73.5,-223 181.5,-223 181.5,-223 187.5,-223 193.5,-229 193.5,-235 193.5,-235 193.5,-294 193.5,-294 193.5,-300 187.5,-306 181.5,-306\"/>\n",
       "<text text-anchor=\"middle\" x=\"127.5\" y=\"-290.8\" font-family=\"Helvetica,sans-Serif\" font-size=\"14.00\">x1 &lt;= 2.45</text>\n",
       "<text text-anchor=\"middle\" x=\"127.5\" y=\"-275.8\" font-family=\"Helvetica,sans-Serif\" font-size=\"14.00\">gini = 0.667</text>\n",
       "<text text-anchor=\"middle\" x=\"127.5\" y=\"-260.8\" font-family=\"Helvetica,sans-Serif\" font-size=\"14.00\">samples = 150</text>\n",
       "<text text-anchor=\"middle\" x=\"127.5\" y=\"-245.8\" font-family=\"Helvetica,sans-Serif\" font-size=\"14.00\">value = [50, 50, 50]</text>\n",
       "<text text-anchor=\"middle\" x=\"127.5\" y=\"-230.8\" font-family=\"Helvetica,sans-Serif\" font-size=\"14.00\">class = A</text>\n",
       "</g>\n",
       "<!-- 1 -->\n",
       "<g id=\"node2\" class=\"node\">\n",
       "<title>1</title>\n",
       "<path fill=\"none\" stroke=\"black\" d=\"M105,-179.5C105,-179.5 12,-179.5 12,-179.5 6,-179.5 0,-173.5 0,-167.5 0,-167.5 0,-123.5 0,-123.5 0,-117.5 6,-111.5 12,-111.5 12,-111.5 105,-111.5 105,-111.5 111,-111.5 117,-117.5 117,-123.5 117,-123.5 117,-167.5 117,-167.5 117,-173.5 111,-179.5 105,-179.5\"/>\n",
       "<text text-anchor=\"middle\" x=\"58.5\" y=\"-164.3\" font-family=\"Helvetica,sans-Serif\" font-size=\"14.00\">gini = 0.0</text>\n",
       "<text text-anchor=\"middle\" x=\"58.5\" y=\"-149.3\" font-family=\"Helvetica,sans-Serif\" font-size=\"14.00\">samples = 50</text>\n",
       "<text text-anchor=\"middle\" x=\"58.5\" y=\"-134.3\" font-family=\"Helvetica,sans-Serif\" font-size=\"14.00\">value = [50, 0, 0]</text>\n",
       "<text text-anchor=\"middle\" x=\"58.5\" y=\"-119.3\" font-family=\"Helvetica,sans-Serif\" font-size=\"14.00\">class = A</text>\n",
       "</g>\n",
       "<!-- 0&#45;&gt;1 -->\n",
       "<g id=\"edge1\" class=\"edge\">\n",
       "<title>0&#45;&gt;1</title>\n",
       "<path fill=\"none\" stroke=\"black\" d=\"M103.56,-222.91C96.99,-211.76 89.85,-199.66 83.23,-188.44\"/>\n",
       "<polygon fill=\"black\" stroke=\"black\" points=\"86.15,-186.5 78.06,-179.67 80.13,-190.06 86.15,-186.5\"/>\n",
       "<text text-anchor=\"middle\" x=\"71.81\" y=\"-200.17\" font-family=\"Helvetica,sans-Serif\" font-size=\"14.00\">True</text>\n",
       "</g>\n",
       "<!-- 2 -->\n",
       "<g id=\"node3\" class=\"node\">\n",
       "<title>2</title>\n",
       "<path fill=\"none\" stroke=\"black\" d=\"M248,-187C248,-187 147,-187 147,-187 141,-187 135,-181 135,-175 135,-175 135,-116 135,-116 135,-110 141,-104 147,-104 147,-104 248,-104 248,-104 254,-104 260,-110 260,-116 260,-116 260,-175 260,-175 260,-181 254,-187 248,-187\"/>\n",
       "<text text-anchor=\"middle\" x=\"197.5\" y=\"-171.8\" font-family=\"Helvetica,sans-Serif\" font-size=\"14.00\">x2 &lt;= 1.75</text>\n",
       "<text text-anchor=\"middle\" x=\"197.5\" y=\"-156.8\" font-family=\"Helvetica,sans-Serif\" font-size=\"14.00\">gini = 0.5</text>\n",
       "<text text-anchor=\"middle\" x=\"197.5\" y=\"-141.8\" font-family=\"Helvetica,sans-Serif\" font-size=\"14.00\">samples = 100</text>\n",
       "<text text-anchor=\"middle\" x=\"197.5\" y=\"-126.8\" font-family=\"Helvetica,sans-Serif\" font-size=\"14.00\">value = [0, 50, 50]</text>\n",
       "<text text-anchor=\"middle\" x=\"197.5\" y=\"-111.8\" font-family=\"Helvetica,sans-Serif\" font-size=\"14.00\">class = B</text>\n",
       "</g>\n",
       "<!-- 0&#45;&gt;2 -->\n",
       "<g id=\"edge2\" class=\"edge\">\n",
       "<title>0&#45;&gt;2</title>\n",
       "<path fill=\"none\" stroke=\"black\" d=\"M151.79,-222.91C157.05,-214.1 162.68,-204.7 168.12,-195.61\"/>\n",
       "<polygon fill=\"black\" stroke=\"black\" points=\"171.13,-197.4 173.26,-187.02 165.12,-193.81 171.13,-197.4\"/>\n",
       "<text text-anchor=\"middle\" x=\"179.35\" y=\"-207.57\" font-family=\"Helvetica,sans-Serif\" font-size=\"14.00\">False</text>\n",
       "</g>\n",
       "<!-- 3 -->\n",
       "<g id=\"node4\" class=\"node\">\n",
       "<title>3</title>\n",
       "<path fill=\"none\" stroke=\"black\" d=\"M176,-68C176,-68 83,-68 83,-68 77,-68 71,-62 71,-56 71,-56 71,-12 71,-12 71,-6 77,0 83,0 83,0 176,0 176,0 182,0 188,-6 188,-12 188,-12 188,-56 188,-56 188,-62 182,-68 176,-68\"/>\n",
       "<text text-anchor=\"middle\" x=\"129.5\" y=\"-52.8\" font-family=\"Helvetica,sans-Serif\" font-size=\"14.00\">gini = 0.168</text>\n",
       "<text text-anchor=\"middle\" x=\"129.5\" y=\"-37.8\" font-family=\"Helvetica,sans-Serif\" font-size=\"14.00\">samples = 54</text>\n",
       "<text text-anchor=\"middle\" x=\"129.5\" y=\"-22.8\" font-family=\"Helvetica,sans-Serif\" font-size=\"14.00\">value = [0, 49, 5]</text>\n",
       "<text text-anchor=\"middle\" x=\"129.5\" y=\"-7.8\" font-family=\"Helvetica,sans-Serif\" font-size=\"14.00\">class = B</text>\n",
       "</g>\n",
       "<!-- 2&#45;&gt;3 -->\n",
       "<g id=\"edge3\" class=\"edge\">\n",
       "<title>2&#45;&gt;3</title>\n",
       "<path fill=\"none\" stroke=\"black\" d=\"M172.18,-103.73C166.74,-94.97 160.99,-85.7 155.52,-76.91\"/>\n",
       "<polygon fill=\"black\" stroke=\"black\" points=\"158.43,-74.95 150.18,-68.3 152.48,-78.64 158.43,-74.95\"/>\n",
       "</g>\n",
       "<!-- 4 -->\n",
       "<g id=\"node5\" class=\"node\">\n",
       "<title>4</title>\n",
       "<path fill=\"none\" stroke=\"black\" d=\"M311,-68C311,-68 218,-68 218,-68 212,-68 206,-62 206,-56 206,-56 206,-12 206,-12 206,-6 212,0 218,0 218,0 311,0 311,0 317,0 323,-6 323,-12 323,-12 323,-56 323,-56 323,-62 317,-68 311,-68\"/>\n",
       "<text text-anchor=\"middle\" x=\"264.5\" y=\"-52.8\" font-family=\"Helvetica,sans-Serif\" font-size=\"14.00\">gini = 0.043</text>\n",
       "<text text-anchor=\"middle\" x=\"264.5\" y=\"-37.8\" font-family=\"Helvetica,sans-Serif\" font-size=\"14.00\">samples = 46</text>\n",
       "<text text-anchor=\"middle\" x=\"264.5\" y=\"-22.8\" font-family=\"Helvetica,sans-Serif\" font-size=\"14.00\">value = [0, 1, 45]</text>\n",
       "<text text-anchor=\"middle\" x=\"264.5\" y=\"-7.8\" font-family=\"Helvetica,sans-Serif\" font-size=\"14.00\">class = C</text>\n",
       "</g>\n",
       "<!-- 2&#45;&gt;4 -->\n",
       "<g id=\"edge4\" class=\"edge\">\n",
       "<title>2&#45;&gt;4</title>\n",
       "<path fill=\"none\" stroke=\"black\" d=\"M222.45,-103.73C227.81,-94.97 233.48,-85.7 238.86,-76.91\"/>\n",
       "<polygon fill=\"black\" stroke=\"black\" points=\"241.89,-78.66 244.12,-68.3 235.92,-75 241.89,-78.66\"/>\n",
       "</g>\n",
       "</g>\n",
       "</svg>\n"
      ],
      "text/plain": [
       "<graphviz.sources.Source at 0x16ceb51c0>"
      ]
     },
     "execution_count": 15,
     "metadata": {},
     "output_type": "execute_result"
    }
   ],
   "source": [
    "from graphviz import Source\n",
    "from sklearn.tree import export_graphviz\n",
    "\n",
    "out_f = \"lec04_BDTs_viz_tree.dot\"\n",
    "\n",
    "export_graphviz(\n",
    "    tree_clf,\n",
    "    out_file = os.path.join(IMAGES_PATH, out_f),\n",
    "    feature_names = ['x1', 'x2'],\n",
    "    class_names = ['A', 'B', 'C'],\n",
    "    rounded = True,\n",
    "    filled = False\n",
    ")\n",
    "\n",
    "Source.from_file(os.path.join(IMAGES_PATH, out_f))"
   ]
  },
  {
   "cell_type": "markdown",
   "id": "junior-responsibility",
   "metadata": {},
   "source": [
    "## Decision Tree Boundaries"
   ]
  },
  {
   "cell_type": "code",
   "execution_count": 20,
   "id": "thrown-collar",
   "metadata": {},
   "outputs": [
    {
     "data": {
      "application/papermill.record/image/png": "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\n",
      "application/papermill.record/text/plain": "<Figure size 720x432 with 1 Axes>"
     },
     "metadata": {
      "scrapbook": {
       "mime_prefix": "application/papermill.record/",
       "name": "dt_boundary_1"
      }
     },
     "output_type": "display_data"
    },
    {
     "data": {
      "image/png": "[encoded data removed]",
      "text/plain": [
       "<Figure size 720x432 with 1 Axes>"
      ]
     },
     "metadata": {
      "needs_background": "light"
     },
     "output_type": "display_data"
    }
   ],
   "source": [
    "from matplotlib.colors import ListedColormap\n",
    "\n",
    "def plot_decision_boundary(clf, X, y, axes=[0, 7.5, 0, 3], xlabel=r\"$x_1$\", ylabel=r\"$x_2$\", legend=False, plot_training=True):\n",
    "    \n",
    "    # Get a grid of values\n",
    "    x1s = np.linspace(axes[0], axes[1], 100)\n",
    "    x2s = np.linspace(axes[2], axes[3], 100)\n",
    "    x1, x2 = np.meshgrid(x1s, x2s)\n",
    "    \n",
    "    X_new = np.c_[x1.ravel(), x2.ravel()]\n",
    "    y_pred = clf.predict(X_new).reshape(x1.shape)\n",
    "    \n",
    "    custom_cmap = ListedColormap([\"mistyrose\",'cornflowerblue','#a0faa0'])\n",
    "    plt.contourf(x1, x2, y_pred, alpha=0.3, cmap=custom_cmap)\n",
    "   \n",
    "    if plot_training:\n",
    "        plt.plot(X.iloc[:, 0][y.y==0], X.iloc[:, 1][y.y==0], \"ro\", label=\"A\")\n",
    "        plt.plot(X.iloc[:, 0][y.y==1], X.iloc[:, 1][y.y==1], \"bs\", label=\"B\")\n",
    "        plt.plot(X.iloc[:, 0][y.y==2], X.iloc[:, 1][y.y==2], \"g^\", label=\"C\")\n",
    "\n",
    "    plt.xlabel(xlabel, fontsize=16)\n",
    "    plt.ylabel(ylabel, fontsize=16, rotation=0 , labelpad=20)\n",
    "    \n",
    "    if legend:\n",
    "        plt.legend(loc=\"lower right\", fontsize=16)\n",
    "\n",
    "        \n",
    "fig = plt.figure(figsize=(10, 6))\n",
    "plot_decision_boundary(tree_clf, X, y)\n",
    "plt.plot([2.45, 2.45], [0, 3], \"k-\", linewidth=2)\n",
    "plt.plot([2.45, 7.5], [1.75, 1.75], \"k--\", linewidth=2)\n",
    "plt.plot([4.95, 4.95], [0, 1.75], \"k:\", linewidth=2)\n",
    "plt.plot([4.85, 4.85], [1.75, 3], \"k:\", linewidth=2)\n",
    "plt.text(1.35, 1.0, \"Depth=0\", fontsize=15)\n",
    "plt.text(3.2, 1.80, \"Depth=1\", fontsize=13)\n",
    "plt.text(4.05, 0.5, \"(Depth=2)\", fontsize=11)\n",
    "\n",
    "glue(\"dt_boundary_1\", fig, display=False)"
   ]
  },
  {
   "cell_type": "code",
   "execution_count": 23,
   "id": "lasting-studio",
   "metadata": {},
   "outputs": [
    {
     "data": {
      "application/papermill.record/image/png": "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\n",
      "application/papermill.record/text/plain": "<Figure size 720x432 with 1 Axes>"
     },
     "metadata": {
      "scrapbook": {
       "mime_prefix": "application/papermill.record/",
       "name": "dt_boundary_r"
      }
     },
     "output_type": "display_data"
    },
    {
     "data": {
      "image/png": "[encoded data removed]",
      "text/plain": [
       "<Figure size 720x432 with 1 Axes>"
      ]
     },
     "metadata": {
      "needs_background": "light"
     },
     "output_type": "display_data"
    }
   ],
   "source": [
    "angle = np.pi / 180 * 20\n",
    "rotation_matrix = np.array([[np.cos(angle), -np.sin(angle)], [np.sin(angle), np.cos(angle)]])\n",
    "Xr = X.dot(rotation_matrix)\n",
    "\n",
    "tree_clf_r = DecisionTreeClassifier(random_state=42)\n",
    "tree_clf_r.fit(Xr, y)\n",
    "\n",
    "fig = plt.figure(figsize=(10, 6))\n",
    "plot_decision_boundary(tree_clf_r, Xr, y, axes=[0.5, 7.5, -1.0, 1])\n",
    "glue(\"dt_boundary_r\", fig, display=False)"
   ]
  },
  {
   "cell_type": "code",
   "execution_count": 24,
   "id": "loving-composite",
   "metadata": {},
   "outputs": [
    {
     "data": {
      "text/plain": [
       "DecisionTreeClassifier(max_depth=2, random_state=40)"
      ]
     },
     "execution_count": 24,
     "metadata": {},
     "output_type": "execute_result"
    }
   ],
   "source": [
    "tree_clf_tweaked = DecisionTreeClassifier(max_depth=2, random_state=40)\n",
    "tree_clf_tweaked.fit(X, y)"
   ]
  },
  {
   "cell_type": "code",
   "execution_count": 25,
   "id": "average-findings",
   "metadata": {},
   "outputs": [
    {
     "data": {
      "text/plain": [
       "Text(1.0, 1.8, 'Depth=1')"
      ]
     },
     "execution_count": 25,
     "metadata": {},
     "output_type": "execute_result"
    },
    {
     "data": {
      "image/png": "[encoded data removed]",
      "text/plain": [
       "<Figure size 720x432 with 1 Axes>"
      ]
     },
     "metadata": {
      "needs_background": "light"
     },
     "output_type": "display_data"
    }
   ],
   "source": [
    "fig = plt.figure(figsize=(10,6))\n",
    "plot_decision_boundary(tree_clf_tweaked, X, y, legend=False)\n",
    "plt.plot([0, 7.5], [0.8, 0.8], \"k-\", linewidth=2)\n",
    "plt.plot([0, 7.5], [1.75, 1.75], \"k--\", linewidth=2)\n",
    "plt.text(1.0, 0.9, \"Depth=0\", fontsize=15)\n",
    "plt.text(1.0, 1.80, \"Depth=1\", fontsize=13)\n",
    "glue(\"dt_boundary_tweaked\", fig, display=False)"
   ]
  },
  {
   "cell_type": "code",
   "execution_count": null,
   "id": "exposed-throat",
   "metadata": {},
   "outputs": [],
   "source": []
  }
 ],
 "metadata": {
  "kernelspec": {
   "display_name": "JuPy3",
   "language": "python",
   "name": "jupy3"
  },
  "language_info": {
   "codemirror_mode": {
    "name": "ipython",
    "version": 3
   },
   "file_extension": ".py",
   "mimetype": "text/x-python",
   "name": "python",
   "nbconvert_exporter": "python",
   "pygments_lexer": "ipython3",
   "version": "3.9.10"
  }
 },
 "nbformat": 4,
 "nbformat_minor": 5
}
